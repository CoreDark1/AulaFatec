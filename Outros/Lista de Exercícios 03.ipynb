{
 "cells": [
  {
   "cell_type": "markdown",
   "metadata": {
    "id": "Nu54dWpEPbru"
   },
   "source": [
    "# Estatística Aplicada a Ciência de Dados: Lista de Exercícios - 03"
   ]
  },
  {
   "cell_type": "markdown",
   "metadata": {
    "id": "hixjR8p3PXzi",
    "outputId": "62cf7153-a5cd-4d35-cec7-25a89951a5fd"
   },
   "source": [
    "01. O operador lógico **ou (or; |)** analisa:\n",
    "\n",
    "> (a) Se todos os testes lógicos são verdadeiros.\n",
    ">\n",
    "> (b) Se todos os testes lógicos são falsos.\n",
    ">\n",
    "> (c) Se pelo menos 1 teste lógico é verdadeiro.\n",
    ">\n",
    "> (d) Se pelo menos 1 teste lógico é falso.\n",
    ">\n",
    "> (e) Nenhuma das alternativas anteriores estão corretas."
   ]
  },
  {
   "cell_type": "code",
   "execution_count": null,
   "metadata": {
    "id": "ZQMAN0hpNDBt"
   },
   "outputs": [],
   "source": [
    "#@title { run: \"auto\", vertical-output: true, display-mode: \"form\" }\n",
    "\n",
    "q01 = ' ' #@param[' ', '(a)', '(b)', '(c)', '(d)', '(e)']\n",
    "\n",
    "correct = '(c)'\n",
    "\n",
    "if q01 == correct:\n",
    "    print('Está correto.')\n",
    "\n",
    "else:\n",
    "    print('Está incorreto.')"
   ]
  },
  {
   "cell_type": "markdown",
   "metadata": {
    "id": "hSHDuHKTRg56",
    "outputId": "62fe3962-ee98-46e0-c8cd-102edcc03b86"
   },
   "source": [
    "02. O operador lógico **e (*and*; *\\&*)** analisa:\n",
    "\n",
    "> (a) Se todos os testes lógicos são verdadeiros.\n",
    ">\n",
    "> (b) Se todos os testes lógicos são falsos.\n",
    ">\n",
    "> (c) Se pelo menos 1 teste lógico é verdadeiro.\n",
    ">\n",
    "> (d) Se pelo menos 1 teste lógico é falso.\n",
    ">\n",
    "> (e) Nenhuma das alternativas anteriores estão corretas."
   ]
  },
  {
   "cell_type": "code",
   "execution_count": null,
   "metadata": {
    "id": "5Qu521ikNPKU"
   },
   "outputs": [],
   "source": [
    "#@title { run: \"auto\", vertical-output: true, display-mode: \"form\" }\n",
    "\n",
    "q02 = ' ' #@param[' ', '(a)', '(b)', '(c)', '(d)', '(e)']\n",
    "\n",
    "correct = '(a)'\n",
    "\n",
    "if q02 == correct:\n",
    "    print('Está correto.')\n",
    "\n",
    "else:\n",
    "    print('Está incorreto.')"
   ]
  },
  {
   "cell_type": "markdown",
   "metadata": {
    "id": "_n9F9nZaRtZc",
    "outputId": "0c82a8a2-184d-408c-e76e-ebdbac91a1cf"
   },
   "source": [
    "03. Quando queremos selecionar linhas que obedeçam mais de 1 condição cada teste lógico deve estar entre:\n",
    "\n",
    "> (a) aspas simples.\n",
    ">\n",
    "> (b) aspas duplas.\n",
    ">\n",
    "> (c) aspas triplas.\n",
    ">\n",
    "> (d) parênteses.\n",
    ">\n",
    "> (e) colchetes.\n",
    ">\n",
    ">(f) chaves."
   ]
  },
  {
   "cell_type": "code",
   "execution_count": null,
   "metadata": {
    "id": "fGLzDTEuNVfD"
   },
   "outputs": [],
   "source": [
    "#@title { run: \"auto\", vertical-output: true, display-mode: \"form\" }\n",
    "\n",
    "q03 = ' ' #@param[' ', '(a)', '(b)', '(c)', '(d)', '(e)', '(f)']\n",
    "\n",
    "correct = '(d)'\n",
    "\n",
    "if q03 == correct:\n",
    "    print('Está correto.')\n",
    "\n",
    "else:\n",
    "    print('Está incorreto.')"
   ]
  },
  {
   "cell_type": "markdown",
   "metadata": {
    "id": "Sw-MiiPVSjad",
    "outputId": "0e54c4bd-e2a2-4c48-ed8a-dd57f9e53178"
   },
   "source": [
    "04. Para renomear as colunas de uma tabela em *pandas* precisamos fornecer o parâmetro *columns* ao método *.rename( )*. O argumento *columns*, por sua vez recebe um *dicionário* com o nome antigo e o novo nome de uma coluna. Um *dicionário* em Python é construído usando-se:\n",
    "\n",
    "> (a) aspas simples.\n",
    ">\n",
    "> (b) aspas duplas.\n",
    ">\n",
    "> (c) aspas triplas.\n",
    ">\n",
    "> (d) parênteses.\n",
    ">\n",
    "> (e) colchetes.\n",
    ">\n",
    "> (f) chaves."
   ]
  },
  {
   "cell_type": "code",
   "execution_count": null,
   "metadata": {
    "id": "TC1dP9tMNcR2"
   },
   "outputs": [],
   "source": [
    "# @title  { run: \"auto\", vertical-output: true, display-mode: \"form\" }\n",
    "q04 = ' ' #@param[' ', '(a)', '(b)', '(c)', '(d)', '(e)', '(f)']\n",
    "\n",
    "correct = '(f)'\n",
    "\n",
    "if q04 == correct:\n",
    "    print('Está correto.')\n",
    "\n",
    "else:\n",
    "    print('Está incorreto.')"
   ]
  },
  {
   "cell_type": "markdown",
   "metadata": {
    "id": "UaZ39D0hYUJA"
   },
   "source": [
    "5. A tabela a seguir contém informações de alguns carros comercializados nos Estados Unidos. O link de acesso a ela é\n",
    "\n",
    "> [https://raw.githubusercontent.com/nightlySnoopy/database/main/car.csv](https://raw.githubusercontent.com/nightlySnoopy/database/main/car.csv)\n",
    "\n",
    "Com base nisso, faça o que se pede:"
   ]
  },
  {
   "cell_type": "markdown",
   "metadata": {
    "id": "X_41IY8jYpKD"
   },
   "source": [
    "(a) Chame a biblioteca *pandas* com o *alias pd* e atribua essa tabela ao nome *df5*."
   ]
  },
  {
   "cell_type": "code",
   "execution_count": null,
   "metadata": {
    "id": "SDanBxaeYTgS"
   },
   "outputs": [],
   "source": []
  },
  {
   "cell_type": "markdown",
   "metadata": {
    "id": "plE3sHECaJhB"
   },
   "source": [
    "(b) Visualize as 5 primeiras linhas."
   ]
  },
  {
   "cell_type": "code",
   "execution_count": null,
   "metadata": {
    "id": "k-kepqnnWCW2"
   },
   "outputs": [],
   "source": []
  },
  {
   "cell_type": "markdown",
   "metadata": {
    "id": "9gPbKQLuadj8"
   },
   "source": [
    "(c) Verifique quantas linhas e colunas estão presentes nessa tabela."
   ]
  },
  {
   "cell_type": "code",
   "execution_count": null,
   "metadata": {
    "id": "Vl4xZE5JaLRl"
   },
   "outputs": [],
   "source": []
  },
  {
   "cell_type": "markdown",
   "metadata": {
    "id": "P1Ayb859agvc"
   },
   "source": [
    "(d) Verifique o rótulo e cada coluna dessa tabela."
   ]
  },
  {
   "cell_type": "code",
   "execution_count": null,
   "metadata": {
    "id": "-rX-JiAFaprT"
   },
   "outputs": [],
   "source": []
  },
  {
   "cell_type": "markdown",
   "metadata": {
    "id": "ga9F-KuqaqEY"
   },
   "source": [
    "(e) Renomeie a penúltima e antepenúltima coluna da seguinte forma:\n",
    "\n",
    "* city-mpg $\\Rightarrow$ cidade-milhas/L\n",
    "* highway-mpg $\\Rightarrow$ estrada-km/L\n",
    "\n",
    "**Atenção**: \"mpg\" são as primeiras letras de \"Miles Per Gallon\" (milhas por galão americano). Embora os valores dessas colunas não estejam em \"quilômetro por litro\", no decorrer deste exercício iremos realizar a conversão entre essas unidades. Por esse motivo, mesmo não estando correto agora, execute a renomeação dessas colunas conforme orientado."
   ]
  },
  {
   "cell_type": "code",
   "execution_count": null,
   "metadata": {
    "id": "KaYmuxsvb1-k"
   },
   "outputs": [],
   "source": []
  },
  {
   "cell_type": "markdown",
   "metadata": {
    "id": "UCv8R6SSb2Ht"
   },
   "source": [
    "(f) verifique se as colunas foram renomeadas"
   ]
  },
  {
   "cell_type": "code",
   "execution_count": null,
   "metadata": {
    "id": "D0OXkB1dcPYr"
   },
   "outputs": [],
   "source": []
  },
  {
   "cell_type": "markdown",
   "metadata": {
    "id": "wtGLxj_pcP4l"
   },
   "source": [
    "(g) Nos Estados Unidos *mpg* significa *miles per gallon* (milhas por galão). Para converter essa medida para $km/\\ell$ precisamos multiplicar por\n",
    "\n",
    "> 0.425143707\n",
    "\n",
    "a medida em mpg. Multiplique cada valor das colunas *cidade-km/L* e *estrada-km/L* pelo fator de conversão acima. Em seguida verifique como ficou o resultado. (Dica: faça 1 coluna por vez.)"
   ]
  },
  {
   "cell_type": "code",
   "execution_count": null,
   "metadata": {
    "id": "lezHhfi6dabC"
   },
   "outputs": [],
   "source": []
  },
  {
   "cell_type": "markdown",
   "metadata": {
    "id": "Dahc_B99eLhI"
   },
   "source": [
    "(h) Deixe os valores da coluna *cidade-km/L* em ordem crescente."
   ]
  },
  {
   "cell_type": "code",
   "execution_count": null,
   "metadata": {
    "id": "QqiUm_Tcd0zu"
   },
   "outputs": [],
   "source": []
  },
  {
   "cell_type": "markdown",
   "metadata": {
    "id": "31Ah0YBUeMY4"
   },
   "source": [
    "(i) Deixe os valores da coluna *estrada-km/L* em ordem decrescente."
   ]
  },
  {
   "cell_type": "code",
   "execution_count": null,
   "metadata": {
    "id": "He9WC41nejfA"
   },
   "outputs": [],
   "source": []
  },
  {
   "cell_type": "markdown",
   "metadata": {
    "id": "pTAOgnCxejpa"
   },
   "source": [
    "6. A tabela a seguir é referente aos dados coletados de um hospital norte americano sobre gestantes e seus bebês recém-nascidos.\n",
    "\n",
    "> [https://raw.githubusercontent.com/nightlySnoopy/database/main/birth.csv](https://raw.githubusercontent.com/nightlySnoopy/database/main/birth.csv)"
   ]
  },
  {
   "cell_type": "markdown",
   "metadata": {
    "id": "20sZ_DJNNnpM"
   },
   "source": [
    "(a) Atribua essa tabela ao nome *df6*."
   ]
  },
  {
   "cell_type": "code",
   "execution_count": null,
   "metadata": {
    "id": "4akgU67xj9MN"
   },
   "outputs": [],
   "source": []
  },
  {
   "cell_type": "markdown",
   "metadata": {
    "id": "7L_L32-iNpzd"
   },
   "source": [
    "(b) Visualize as 10 últimas linhas dessa tabela."
   ]
  },
  {
   "cell_type": "code",
   "execution_count": null,
   "metadata": {
    "id": "kZftAmhCN9nd"
   },
   "outputs": [],
   "source": []
  },
  {
   "cell_type": "markdown",
   "metadata": {
    "id": "6MPWYBoMPDGs"
   },
   "source": [
    "(c) As massas dos recém-nascidos (*Birth Weight*) estão em onças. Para converter para quilogramas é preciso multiplicar a medida em onça por 0.02834952. Com base nisso:\n",
    "\n",
    "1. Faça a conversão para quilograma;\n",
    "2. Deixe os resultados com 3 casas decimais;\n",
    "3. Atribua a tabela convertida ao próprio nome *df6*;\n",
    "4. Visualize a tabela obtida."
   ]
  },
  {
   "cell_type": "code",
   "execution_count": null,
   "metadata": {
    "id": "_JYfLy-uN_xl"
   },
   "outputs": [],
   "source": []
  },
  {
   "cell_type": "markdown",
   "metadata": {
    "id": "5swPR4e7PEKY"
   },
   "source": [
    "(d) Mude o rótulo\n",
    "* *Birth Weight* para *Massa kg*;\n",
    "* *Maternal Smoker* para * *Fumante*\n",
    "* *Gestational Days* para *Dias de gestação*\n",
    "\n",
    "e atualize e verifique como ficou a tabela *df6*."
   ]
  },
  {
   "cell_type": "code",
   "execution_count": null,
   "metadata": {
    "id": "RgGJkbUOP89n"
   },
   "outputs": [],
   "source": []
  },
  {
   "cell_type": "markdown",
   "metadata": {
    "id": "9rZso7H9P9IC"
   },
   "source": [
    "(e) Deixe a tabela apenas com as colunas *Massa kg*, *Fumante* e *Dias de Gestação*. Visualize a nova tabela obtida. Atribua essa nova tabela ao nome **df6e**."
   ]
  },
  {
   "cell_type": "code",
   "execution_count": null,
   "metadata": {
    "id": "ecuDa4JIRdl2"
   },
   "outputs": [],
   "source": []
  },
  {
   "cell_type": "markdown",
   "metadata": {
    "id": "9wX7pYI0RemA"
   },
   "source": [
    "(f) Crie a tabela com nome *df6f* filtrando os valores da coluna *Fumante* para *True* da tabela **df6e**. Visualize o resultado."
   ]
  },
  {
   "cell_type": "code",
   "execution_count": null,
   "metadata": {
    "id": "EuCi_B1XTGR4"
   },
   "outputs": [],
   "source": []
  },
  {
   "cell_type": "markdown",
   "metadata": {
    "id": "Im_Dra_2u_TB"
   },
   "source": [
    "7. A tabela presente no link a seguir contém algumas informações de carros híbridos vendidos nos Estados Unidos entre 1997 e 2013 (Dados adaptados do professor Larry Winner). Com base nisso, faça o que se pede:\n",
    "\n",
    "> [https://raw.githubusercontent.com/nightlySnoopy/database/main/car2.csv](https://raw.githubusercontent.com/nightlySnoopy/database/main/car2.csv)"
   ]
  },
  {
   "cell_type": "markdown",
   "metadata": {
    "id": "N8iDJlwVvJ2p"
   },
   "source": [
    "(a) Atribua essa tabela ao nome *df7*:"
   ]
  },
  {
   "cell_type": "code",
   "execution_count": null,
   "metadata": {
    "id": "8rGns7YvWHho"
   },
   "outputs": [],
   "source": []
  },
  {
   "cell_type": "markdown",
   "metadata": {
    "id": "jN8YIr58xqQI"
   },
   "source": [
    "### (a) Essa tabela contêm as seguintes variáveis:\n",
    "\n",
    "1. *vehicle*: Nome do veículo. Mude para *nome*;\n",
    "2. *year*: Ano de fabricação. Mude para *ano*;\n",
    "3. *msrp*: Preço sugerido pelo fabricante em dólares em 2013. Mude para *preço2013*\n",
    "4. *acceleration*: aceleração em quilômetros por hora por segundo. Mude para *aceleração*.\n",
    "5. *mpg*: Consumo de combustível em milhas por galão. Mude para *consumo*\n",
    "6. *class*: Classe do modelo. Mude para *classe*."
   ]
  },
  {
   "cell_type": "code",
   "execution_count": null,
   "metadata": {
    "id": "s8jwx0GOr6k_"
   },
   "outputs": [],
   "source": []
  },
  {
   "cell_type": "markdown",
   "metadata": {
    "id": "6hLahWZPxsrH"
   },
   "source": [
    "(b) Vimos que para converter milhas por galão (americano) para quilômetros por litro, precisamos multiplicar o valor em galão por 0.425143707. Multiplique a coluna *consumo* por esse fator, deixe o resultado com 2 casas decimais e atualize a tabela *df7* com os valores dessa coluna convertidos."
   ]
  },
  {
   "cell_type": "code",
   "execution_count": null,
   "metadata": {
    "id": "aiIjceymzM33"
   },
   "outputs": [],
   "source": []
  },
  {
   "cell_type": "markdown",
   "metadata": {
    "id": "2Z78IlCn0yIt"
   },
   "source": [
    "(c) Filtre os carros que tem aceleração superior a 10 km/h por segundo e consumo inferior ou igual a 8.5 km/$\\ell$."
   ]
  },
  {
   "cell_type": "code",
   "execution_count": null,
   "metadata": {
    "id": "v46WyyAKzXZ_"
   },
   "outputs": [],
   "source": []
  },
  {
   "cell_type": "markdown",
   "metadata": {
    "id": "6pCYBEFj00aU"
   },
   "source": [
    "(d) Filtre os carros classificados como *SUV* (*sport utility vehicle*) ou que o preço seja inferior a $ 10 000.00."
   ]
  },
  {
   "cell_type": "code",
   "execution_count": null,
   "metadata": {
    "id": "xyEPm6TI2VKX"
   },
   "outputs": [],
   "source": []
  },
  {
   "cell_type": "markdown",
   "metadata": {
    "id": "1VtBr03N2VcY"
   },
   "source": [
    "(f) Filtre os carros que contém *FWD* (*Front Wheel Drive*) em seu nome."
   ]
  },
  {
   "cell_type": "code",
   "execution_count": null,
   "metadata": {
    "id": "zkwGPlVy3VsA"
   },
   "outputs": [],
   "source": []
  },
  {
   "cell_type": "markdown",
   "metadata": {
    "id": "vG_cmnt93WTr"
   },
   "source": [
    "(g) Quantos carros foram produzidos em 2012? (Dica: Use a função *len( )* ou o método *.shape*.)"
   ]
  },
  {
   "cell_type": "code",
   "execution_count": null,
   "metadata": {
    "id": "p8C0VlJV4lna"
   },
   "outputs": [],
   "source": []
  },
  {
   "cell_type": "markdown",
   "metadata": {
    "id": "EPOgCNk44l1O"
   },
   "source": [
    "(h) Ordene a tabela do carro menos econômico ao mais econômico."
   ]
  },
  {
   "cell_type": "code",
   "execution_count": null,
   "metadata": {
    "id": "LHCwKp4L69oM"
   },
   "outputs": [],
   "source": []
  },
  {
   "cell_type": "markdown",
   "metadata": {
    "id": "s9UfhpOuWp3i"
   },
   "source": [
    "(i) Verifique a classificação dos valores presentes em cada coluna. Faz sentido as classificações presentes? Existem colunas com valores ausentes?"
   ]
  },
  {
   "cell_type": "code",
   "execution_count": null,
   "metadata": {
    "id": "URJl6lJEW41b"
   },
   "outputs": [],
   "source": []
  },
  {
   "cell_type": "markdown",
   "metadata": {
    "id": "AlBT8-yRW-xs"
   },
   "source": [
    "A princípio, parece que a classificação dos valores presentes em cada coluna da tabela estão corretas.\n",
    "\n",
    "Não há colunas com linhas vazias."
   ]
  },
  {
   "cell_type": "markdown",
   "metadata": {
    "id": "dIEr1HjU6-JX"
   },
   "source": [
    "8. Na Questão 06 trabalhamos com os dados de gestantes e seus bebês recém nascidos. Os dados que iremos utilizar estão presentes na tabela **df6**. Com base nisso:"
   ]
  },
  {
   "cell_type": "markdown",
   "metadata": {
    "id": "Dkzf7c839v7Y"
   },
   "source": [
    "(a) Quais são as colunas presentes na tabela *df6*?"
   ]
  },
  {
   "cell_type": "code",
   "execution_count": null,
   "metadata": {
    "id": "_xE8z7LP9QRr"
   },
   "outputs": [],
   "source": []
  },
  {
   "cell_type": "markdown",
   "metadata": {
    "id": "m-dP5koZ9899"
   },
   "source": [
    "(b) Bebês com massa inferior a 2.5 kg ao nascer \"apresentam uma alta taxa de mortalidade e morbidade neonatal e infantil, sendo considerado o fator isolado mais influente na sobrevivência nos primeiros anos de vida\". Verifique quantos recém nascidos se encaixam nesse quesito."
   ]
  },
  {
   "cell_type": "code",
   "execution_count": null,
   "metadata": {
    "id": "HyeP9dXB9RDD"
   },
   "outputs": [],
   "source": []
  },
  {
   "cell_type": "markdown",
   "metadata": {
    "id": "ikHUbizY_DeC"
   },
   "source": [
    "(c) Em relação à amostra presente em *df6*, qual é a porcentagem de bebês com baixa massa ao nascer?\n",
    "\n",
    "**Dica:**\n",
    "\n",
    "Para calcular a porcentagem de uma parcela de um grupo com características desejadas presentes nesse grupo basta executar a seguinte operação:\n",
    "\n",
    "> $\\displaystyle \\text{Porcentagem} = \\frac{\\text{Quantidade de elementos com as características desejadas presentes no grupo} \\times 100}{\\text{Total de elementos presentes no grupo}}$"
   ]
  },
  {
   "cell_type": "code",
   "execution_count": null,
   "metadata": {
    "id": "cn4sr69J-0vH"
   },
   "outputs": [],
   "source": []
  },
  {
   "cell_type": "markdown",
   "metadata": {
    "id": "XJNckIEz_Ejd"
   },
   "source": [
    "(d)  A \"macrossomia fetal (massa > 4.0 kg) é relacionada à asfixia neonatal, maior risco de hipoglicemia fetal, rotura prematura de membranas, trabalho de parto prematuro, desproporção feto-pélvica, traumas esqueléticos, distúrbios hidroeletrolíticos, aspiração de mecônio, entre outros. Além disso, a longo prazo, o crescimento fetal inadequado favorece o desenvolvimento de doenças crônicas não transmissíveis na vida adulta\". Com base nisso, quantos porcento dos recém nascidos em *df6* se encontram em estado de macrossomia fetal?"
   ]
  },
  {
   "cell_type": "code",
   "execution_count": null,
   "metadata": {
    "id": "CyRTHv7V_y7U"
   },
   "outputs": [],
   "source": []
  },
  {
   "cell_type": "markdown",
   "metadata": {
    "id": "JqVCcAr8DnOS"
   },
   "source": [
    "(e) Crie a tabela *df6e* filtrando os casos em que os recém nascidos tem massa inferior a 2.5 kg."
   ]
  },
  {
   "cell_type": "code",
   "execution_count": null,
   "metadata": {
    "id": "sCiGhdhyD5Yj"
   },
   "outputs": [],
   "source": []
  },
  {
   "cell_type": "markdown",
   "metadata": {
    "id": "SYPIhlyh_4rl"
   },
   "source": [
    "(f) Qual é a porcentagem, em relação ao total de recém nascidos com massa inferior a 2.5 kg com mães fumantes? E mães não fumantes?"
   ]
  },
  {
   "cell_type": "code",
   "execution_count": null,
   "metadata": {
    "id": "_Qku50-b_3z2"
   },
   "outputs": [],
   "source": []
  },
  {
   "cell_type": "markdown",
   "metadata": {
    "id": "_07f9gSaFkI_"
   },
   "source": [
    "(g) Crie a tabela *df6g* filtrando os casos em que os recém nascidos tem massa superior a 4 kg."
   ]
  },
  {
   "cell_type": "code",
   "execution_count": null,
   "metadata": {
    "id": "9UtIieuDA4OF"
   },
   "outputs": [],
   "source": []
  },
  {
   "cell_type": "markdown",
   "metadata": {
    "id": "ZGGyPxdGFrW-"
   },
   "source": [
    "(h) Qual é a porcentagem, em relação ao total de recém nascidos com massa superior a 4 kg com mães fumantes? E mães não fumantes?"
   ]
  },
  {
   "cell_type": "code",
   "execution_count": null,
   "metadata": {
    "id": "qLNfAGfaBWFL"
   },
   "outputs": [],
   "source": []
  },
  {
   "cell_type": "markdown",
   "metadata": {
    "id": "0-qO8JbEp_u1"
   },
   "source": [
    "09. Ao executar a célula abaixo irá gerar uma tabela com os códigos de serviços prestados por sua empresa, o valor do serviço em reais e a taxa de reajuste que você fará."
   ]
  },
  {
   "cell_type": "code",
   "execution_count": null,
   "metadata": {
    "id": "6VtYBFfXF4Q1"
   },
   "outputs": [],
   "source": [
    "# Apenas execute esta célula ###################################################\n",
    "import string\n",
    "import numpy as np\n",
    "\n",
    "letters = list(string.ascii_lowercase)\n",
    "numberIndex = range(10)\n",
    "letterIndex = range(len(letters))\n",
    "count = 0\n",
    "id = []\n",
    "\n",
    "while count < 150:\n",
    "  i = np.random.choice(numberIndex, 1)\n",
    "  x = str(numberIndex[int(i)])\n",
    "  i = np.random.choice(numberIndex, 1)\n",
    "  x = x + str(numberIndex[int(i)])\n",
    "  n = np.random.choice(letterIndex, 1)\n",
    "  x = x + str(letters[int(n)])\n",
    "  x = x + str(numberIndex[int(i)])\n",
    "  x = x + str(numberIndex[int(i)])\n",
    "\n",
    "  if x in id:\n",
    "    continue\n",
    "\n",
    "  else:\n",
    "    id.append(x)\n",
    "    count = count + 1\n",
    "\n",
    "tax = np.round(np.random.uniform(0, 3, count), 2)\n",
    "price = np.round(np.random.uniform(150, 1515, count), 2)\n",
    "data = {'Código': id, 'Preço': price, 'Reajuste': tax}\n",
    "df9 = pd.DataFrame(data)\n",
    "df9"
   ]
  },
  {
   "cell_type": "markdown",
   "metadata": {
    "id": "bRJKsiCrq6JI"
   },
   "source": [
    "(a) Para reajustar os preços de cada serviço, você deverá multiplicar cada valor da coluna **preço** pela sua respectiva taxa de reajuste presente na coluna **Reajuste** da tabela **df9**. Crie a coluna **Novo Preço** com os valores atualizados com **2 casas decimais**."
   ]
  },
  {
   "cell_type": "code",
   "execution_count": null,
   "metadata": {
    "id": "5L7QIE2aKNj-"
   },
   "outputs": [],
   "source": []
  },
  {
   "cell_type": "markdown",
   "metadata": {
    "id": "Bz994YDatJVF"
   },
   "source": [
    "(b) Para os clientes que pagarem à vista, você decidiu que poderá dar um desconto em alguns serviços. Execute a célula abaixo para acrescentar a coluna *Desconto* na tabela *df9*:"
   ]
  },
  {
   "cell_type": "code",
   "execution_count": null,
   "metadata": {
    "id": "SJuNoH3GgJBF"
   },
   "outputs": [],
   "source": [
    "# Apenas execute esta célula ###################################################\n",
    "df9['Desconto'] = np.round(np.random.uniform(0.02, 0.25, count), 2)            #\n",
    "df9                                                                            #\n",
    "################################################################################"
   ]
  },
  {
   "cell_type": "markdown",
   "metadata": {
    "id": "spPkN7RFuRBb"
   },
   "source": [
    "(c) Crie a coluna **Preço Com Desconto**. Para isso, multiplique\n",
    "\n",
    "> coluna **Novo Preço** por (1 - coluna **Desconto**). Deixe com 2 casas decimais:"
   ]
  },
  {
   "cell_type": "code",
   "execution_count": null,
   "metadata": {
    "id": "PXDFf8k2uUeu"
   },
   "outputs": [],
   "source": []
  },
  {
   "cell_type": "markdown",
   "metadata": {
    "id": "1XJ_yHPbvxTP"
   },
   "source": [
    "(d) Como o cálculo da taxa de reajuste foi feita por outra pessoa, você  gostaria e saber quais foram os serviços que sofreram mais reajuste. Verifique."
   ]
  },
  {
   "cell_type": "code",
   "execution_count": null,
   "metadata": {
    "id": "vggeHoupujqD"
   },
   "outputs": [],
   "source": []
  },
  {
   "cell_type": "markdown",
   "metadata": {
    "id": "qNsLGtu6wTaN"
   },
   "source": [
    "(e) Como o cálculo da taxa de desconto também foi feita por outra pessoa, você  gostaria e saber quais foram os serviços que terão menores descontos. Verifique."
   ]
  },
  {
   "cell_type": "code",
   "execution_count": null,
   "metadata": {
    "id": "Uip9CJKyu_vw"
   },
   "outputs": [],
   "source": []
  },
  {
   "cell_type": "markdown",
   "metadata": {
    "id": "XdOpkAbCxJl5"
   },
   "source": [
    "(f) Tem algum serviço que sofreu reajuste superior ou igual a 1.5 e terá desconto inferior que 0.15?"
   ]
  },
  {
   "cell_type": "code",
   "execution_count": null,
   "metadata": {
    "id": "y1Wx4Nx3wcCX"
   },
   "outputs": [],
   "source": []
  },
  {
   "cell_type": "markdown",
   "metadata": {
    "id": "Zyl3TcNeXXqj"
   },
   "source": [
    "(g) Crie a tabela *novo* com a <ins>*cópia*</ins> das colunas *Código, Novo Preço* e *Preço Com Desconto* da tabela *df9*. Visualize as 5 primeiras linas de *novo*."
   ]
  },
  {
   "cell_type": "code",
   "execution_count": null,
   "metadata": {
    "id": "_Bc8sPIyYCNb"
   },
   "outputs": [],
   "source": []
  },
  {
   "cell_type": "markdown",
   "metadata": {
    "id": "2KabfhOYZryD"
   },
   "source": [
    "(h) Multiplique todas as linhas da coluna *Preço Com Desconto* por 0.90. Deixe os resultados com 2 casas decimais, atualize os valores dessa coluna e visualize suas 5 primeiras linhas."
   ]
  },
  {
   "cell_type": "code",
   "execution_count": null,
   "metadata": {
    "id": "TpeaQwrqYlzU"
   },
   "outputs": [],
   "source": []
  }
 ],
 "metadata": {
  "colab": {
   "provenance": []
  },
  "kernelspec": {
   "display_name": "Python 3 (ipykernel)",
   "language": "python",
   "name": "python3"
  },
  "language_info": {
   "codemirror_mode": {
    "name": "ipython",
    "version": 3
   },
   "file_extension": ".py",
   "mimetype": "text/x-python",
   "name": "python",
   "nbconvert_exporter": "python",
   "pygments_lexer": "ipython3",
   "version": "3.10.12"
  }
 },
 "nbformat": 4,
 "nbformat_minor": 1
}
